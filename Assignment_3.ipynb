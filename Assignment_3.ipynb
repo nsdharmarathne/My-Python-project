{
 "cells": [
  {
   "cell_type": "markdown",
   "id": "265f0a79",
   "metadata": {},
   "source": [
    "# Assignment_3\n",
    "# **Name: Nandana Sri Dharmarathne Gangana Pahala Hene Gedara**\n",
    "# **Date : 15-02-2025**\n",
    "# **Student ID : EN-001101**"
   ]
  },
  {
   "cell_type": "markdown",
   "id": "bc2cf2fd",
   "metadata": {},
   "source": [
    "### Excise 01\n",
    "1. Write a lambda expression to get the product of two numbers.\n",
    "   Run test for expression(5,6)\n",
    "   Output: 30"
   ]
  },
  {
   "cell_type": "code",
   "execution_count": 1,
   "id": "8c735ad0",
   "metadata": {},
   "outputs": [
    {
     "name": "stdout",
     "output_type": "stream",
     "text": [
      "30\n"
     ]
    }
   ],
   "source": [
    "# Lambda Expression\n",
    "product = lambda a, b: a * b\n",
    "print(product(5 , 6))"
   ]
  },
  {
   "cell_type": "markdown",
   "id": "306ce9d8",
   "metadata": {},
   "source": [
    "### Excise 02\n",
    "02. Write a function to get the area of a\n",
    "    circle from the radius.<br>\n",
    "    **Hint:** remember to import the right modul for being able to calculte the area of the circle.<br>\n",
    "\n",
    "    Run test for function(10) <br>\n",
    "    Output: 314.1592653589793"
   ]
  },
  {
   "cell_type": "code",
   "execution_count": 2,
   "id": "f895a14d",
   "metadata": {},
   "outputs": [
    {
     "name": "stdout",
     "output_type": "stream",
     "text": [
      "314.1592653589793\n"
     ]
    }
   ],
   "source": [
    "#Function Definition\n",
    "import math\n",
    "\n",
    "def circle_area(radius):\n",
    "    return math.pi * radius ** 2\n",
    "# Test the function with radius 10\n",
    "\n",
    "print(circle_area(10))"
   ]
  },
  {
   "cell_type": "markdown",
   "id": "aef0c959",
   "metadata": {},
   "source": [
    "### Excise 03\n",
    "3. Build a simple calculator which can:\n",
    "   add, subtract, multiply, divide.<br><br>\n",
    "   **Hint:** solve by writing a function that takes as argument two numbers and the operation and returns the desired output.<br><br>\n",
    "   Run test for function(2,5,’d’) <br><br >\n",
    "   Output: 0.4"
   ]
  },
  {
   "cell_type": "code",
   "execution_count": 3,
   "id": "2caa8887",
   "metadata": {},
   "outputs": [
    {
     "name": "stdout",
     "output_type": "stream",
     "text": [
      "0.4\n"
     ]
    }
   ],
   "source": [
    "# Perform basic arithmetic operations: addition, subtraction, multiplication, and division.\n",
    "def calculator(a, b, operation):\n",
    "    if operation == 'x': # Addition\n",
    "        return a + b\n",
    "    elif operation == 's': # Subtraction\n",
    "        return a - b\n",
    "    elif operation == 'm': # Multiplication\n",
    "        return a * b\n",
    "    elif operation == 'd': # Division\n",
    "        return a / b if b != 0 else \"Error: Division by zero\"\n",
    "    else:\n",
    "        return \"Invalied operation\"\n",
    "print(calculator(2, 5, 'd'))"
   ]
  },
  {
   "cell_type": "markdown",
   "id": "c1a53b29",
   "metadata": {},
   "source": [
    "### Excise 04\n",
    "4. Define a class named Rectangle which can be constructed by a length and width.<br>\n",
    "   The Rectangle class has a method which can compute the area.<br><br>\n",
    "   Run test for r = Rectangle(5,10)<br>\n",
    "          r.area()\n",
    "          Output: 50"
   ]
  },
  {
   "cell_type": "code",
   "execution_count": 4,
   "id": "6e3e8e74",
   "metadata": {},
   "outputs": [
    {
     "name": "stdout",
     "output_type": "stream",
     "text": [
      "50\n"
     ]
    }
   ],
   "source": [
    "# Define a class named Rectangle\n",
    "class rectangle:\n",
    "# A class to represent a rectangle.\n",
    "#Attributes:\n",
    "# length (float or int): The length of the rectangle.\n",
    "# width (float or int): The width of the rectangle.\n",
    "\n",
    "# Methods:\n",
    "#area(): Computes and returns the area of the rectangle.\n",
    "    \n",
    "    def __init__(self, length, width):\n",
    "        self.length = length\n",
    "        self.width = width\n",
    "    def area(self):\n",
    "        return self.length * self.width\n",
    "# Test the class functionality\n",
    "r = rectangle(5, 10) # Create a rectangle object with length=5 and width=10\n",
    "print(r.area()) # Expected Output: 50"
   ]
  },
  {
   "cell_type": "markdown",
   "id": "12b54231",
   "metadata": {},
   "source": [
    "### Excise 05\n",
    "05. Define a class named Shape and its subclass Square.<br>\n",
    "    Shape objects can be consrtucted by name and length has an area function wich return 0<br>\n",
    "\n",
    "    Square subclass has an init function which take a length and name as   argument and has an area method and a describe method what prints the name of the Shape.\n",
    "    Print the area from Square class.\n",
    "\n",
    "    Run test for: s = Square('square',5)<br>\n",
    "print(s.area())<br>\n",
    "&nbsp;&nbsp;&nbsp;&nbsp;print(s.describe())<br>\n",
    "    Output: The area is:<br>\n",
    "&nbsp;&nbsp;&nbsp;&nbsp;25 <br>\n",
    "     This is a: square"
   ]
  },
  {
   "cell_type": "code",
   "execution_count": 5,
   "id": "8a4ee363",
   "metadata": {},
   "outputs": [
    {
     "name": "stdout",
     "output_type": "stream",
     "text": [
      "The area is:\n",
      "25\n",
      "This is a: square\n",
      "None\n"
     ]
    }
   ],
   "source": [
    "# Define the parent class 'shape'\n",
    "class shape:\n",
    "    # Initialize the shape with a name and length\n",
    "    def __init__(self, name, length):\n",
    "        self.name = name  # Store the name of the shape\n",
    "        self.length = length  # Store the length (for square, it could be the side length)\n",
    "\n",
    "    # Define a method to return a default area (this can be overridden by child classes)\n",
    "    def area(self):\n",
    "        return 0  # Default area method that returns 0\n",
    "\n",
    "# Define the child class 'square' that inherits from 'shape'\n",
    "class square(shape):\n",
    "    # Initialize the square with a name and side length\n",
    "    def __init__(self, name, length):\n",
    "        super().__init__(name, length)  # Call the parent constructor to initialize name and length\n",
    "\n",
    "    # Override the area method to calculate the area of a square\n",
    "    def area(self):\n",
    "        print(\"The area is:\")  # Print a message indicating that the area will be printed\n",
    "        return self.length ** 2  # Return the area of the square (side^2)\n",
    "\n",
    "    # Define a method to describe the shape\n",
    "    def describe(self):\n",
    "        print(\"This is a:\", self.name)  # Print the name of the shape\n",
    "\n",
    "# Create an object 's' of the 'square' class with name 'square' and side length 5\n",
    "s = square('square', 5)\n",
    "\n",
    "# Call the area method of the square object and print the result\n",
    "print(s.area())  # Expected Output: \"The area is:\" followed by 25\n",
    "\n",
    "# Call the describe method of the square object\n",
    "print(s.describe())  # Expected Output: \"This is a: square\""
   ]
  },
  {
   "cell_type": "code",
   "execution_count": null,
   "id": "969f3ffb",
   "metadata": {},
   "outputs": [],
   "source": []
  }
 ],
 "metadata": {
  "kernelspec": {
   "display_name": "Python 3 (ipykernel)",
   "language": "python",
   "name": "python3"
  },
  "language_info": {
   "codemirror_mode": {
    "name": "ipython",
    "version": 3
   },
   "file_extension": ".py",
   "mimetype": "text/x-python",
   "name": "python",
   "nbconvert_exporter": "python",
   "pygments_lexer": "ipython3",
   "version": "3.12.7"
  }
 },
 "nbformat": 4,
 "nbformat_minor": 5
}
